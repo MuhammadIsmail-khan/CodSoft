{
 "cells": [
  {
   "cell_type": "markdown",
   "id": "774dfead",
   "metadata": {},
   "source": [
    "<div style=\"text-align:center\">\n",
    "<h1 style=\"color:blue;\">TITANIC SURVIVAL PREDICTION</h1>\n",
    "</div>"
   ]
  },
  {
   "cell_type": "markdown",
   "id": "2aed238b",
   "metadata": {},
   "source": [
    "### Import required libraries"
   ]
  },
  {
   "cell_type": "code",
   "execution_count": 185,
   "id": "0416af16",
   "metadata": {},
   "outputs": [],
   "source": [
    "import numpy as np\n",
    "import pandas as pd\n",
    "import matplotlib.pyplot as plt\n",
    "import seaborn as sns\n",
    "from sklearn.preprocessing import MinMaxScaler\n",
    "from sklearn.model_selection import train_test_split\n",
    "from matplotlib import pyplot\n",
    "from sklearn.feature_selection import SelectKBest\n",
    "from sklearn.feature_selection import chi2\n",
    "from sklearn.linear_model import LogisticRegression\n",
    "from sklearn.metrics import accuracy_score, classification_report, confusion_matrix\n",
    "from sklearn.model_selection import train_test_split\n",
    "from sklearn.feature_selection import SelectKBest\n",
    "from sklearn.feature_selection import chi2\n",
    "from sklearn.linear_model import LogisticRegression\n",
    "from sklearn.metrics import accuracy_score, classification_report, confusion_matrix\n",
    "from sklearn.ensemble import RandomForestClassifier\n",
    "from sklearn.svm import SVC\n",
    "from sklearn.naive_bayes import GaussianNB\n",
    "from sklearn.tree import DecisionTreeClassifier"
   ]
  },
  {
   "cell_type": "markdown",
   "id": "0bbde1d3",
   "metadata": {},
   "source": [
    "### Import Dataset"
   ]
  },
  {
   "cell_type": "code",
   "execution_count": 186,
   "id": "38057f1a",
   "metadata": {},
   "outputs": [],
   "source": [
    "df = pd.read_csv('titanic.csv')"
   ]
  },
  {
   "cell_type": "markdown",
   "id": "a9a6e1f1",
   "metadata": {},
   "source": [
    "<div style=\"text-align:center\">\n",
    "<h1 style=\"color:black;\">Step 1   :   Summary Statistics</h1>\n",
    "</div>\n"
   ]
  },
  {
   "cell_type": "markdown",
   "id": "ab2d3f24",
   "metadata": {},
   "source": [
    "### Get insights of Data and understand it"
   ]
  },
  {
   "cell_type": "code",
   "execution_count": 187,
   "id": "8485eed5",
   "metadata": {},
   "outputs": [
    {
     "data": {
      "text/html": [
       "<div>\n",
       "<style scoped>\n",
       "    .dataframe tbody tr th:only-of-type {\n",
       "        vertical-align: middle;\n",
       "    }\n",
       "\n",
       "    .dataframe tbody tr th {\n",
       "        vertical-align: top;\n",
       "    }\n",
       "\n",
       "    .dataframe thead th {\n",
       "        text-align: right;\n",
       "    }\n",
       "</style>\n",
       "<table border=\"1\" class=\"dataframe\">\n",
       "  <thead>\n",
       "    <tr style=\"text-align: right;\">\n",
       "      <th></th>\n",
       "      <th>PassengerId</th>\n",
       "      <th>Survived</th>\n",
       "      <th>Pclass</th>\n",
       "      <th>Name</th>\n",
       "      <th>Sex</th>\n",
       "      <th>Age</th>\n",
       "      <th>SibSp</th>\n",
       "      <th>Parch</th>\n",
       "      <th>Ticket</th>\n",
       "      <th>Fare</th>\n",
       "      <th>Cabin</th>\n",
       "      <th>Embarked</th>\n",
       "    </tr>\n",
       "  </thead>\n",
       "  <tbody>\n",
       "    <tr>\n",
       "      <th>0</th>\n",
       "      <td>892</td>\n",
       "      <td>0</td>\n",
       "      <td>3</td>\n",
       "      <td>Kelly, Mr. James</td>\n",
       "      <td>male</td>\n",
       "      <td>34.5</td>\n",
       "      <td>0</td>\n",
       "      <td>0</td>\n",
       "      <td>330911</td>\n",
       "      <td>7.8292</td>\n",
       "      <td>NaN</td>\n",
       "      <td>Q</td>\n",
       "    </tr>\n",
       "    <tr>\n",
       "      <th>1</th>\n",
       "      <td>893</td>\n",
       "      <td>1</td>\n",
       "      <td>3</td>\n",
       "      <td>Wilkes, Mrs. James (Ellen Needs)</td>\n",
       "      <td>female</td>\n",
       "      <td>47.0</td>\n",
       "      <td>1</td>\n",
       "      <td>0</td>\n",
       "      <td>363272</td>\n",
       "      <td>7.0000</td>\n",
       "      <td>NaN</td>\n",
       "      <td>S</td>\n",
       "    </tr>\n",
       "    <tr>\n",
       "      <th>2</th>\n",
       "      <td>894</td>\n",
       "      <td>0</td>\n",
       "      <td>2</td>\n",
       "      <td>Myles, Mr. Thomas Francis</td>\n",
       "      <td>male</td>\n",
       "      <td>62.0</td>\n",
       "      <td>0</td>\n",
       "      <td>0</td>\n",
       "      <td>240276</td>\n",
       "      <td>9.6875</td>\n",
       "      <td>NaN</td>\n",
       "      <td>Q</td>\n",
       "    </tr>\n",
       "    <tr>\n",
       "      <th>3</th>\n",
       "      <td>895</td>\n",
       "      <td>0</td>\n",
       "      <td>3</td>\n",
       "      <td>Wirz, Mr. Albert</td>\n",
       "      <td>male</td>\n",
       "      <td>27.0</td>\n",
       "      <td>0</td>\n",
       "      <td>0</td>\n",
       "      <td>315154</td>\n",
       "      <td>8.6625</td>\n",
       "      <td>NaN</td>\n",
       "      <td>S</td>\n",
       "    </tr>\n",
       "    <tr>\n",
       "      <th>4</th>\n",
       "      <td>896</td>\n",
       "      <td>1</td>\n",
       "      <td>3</td>\n",
       "      <td>Hirvonen, Mrs. Alexander (Helga E Lindqvist)</td>\n",
       "      <td>female</td>\n",
       "      <td>22.0</td>\n",
       "      <td>1</td>\n",
       "      <td>1</td>\n",
       "      <td>3101298</td>\n",
       "      <td>12.2875</td>\n",
       "      <td>NaN</td>\n",
       "      <td>S</td>\n",
       "    </tr>\n",
       "  </tbody>\n",
       "</table>\n",
       "</div>"
      ],
      "text/plain": [
       "   PassengerId  Survived  Pclass  \\\n",
       "0          892         0       3   \n",
       "1          893         1       3   \n",
       "2          894         0       2   \n",
       "3          895         0       3   \n",
       "4          896         1       3   \n",
       "\n",
       "                                           Name     Sex   Age  SibSp  Parch  \\\n",
       "0                              Kelly, Mr. James    male  34.5      0      0   \n",
       "1              Wilkes, Mrs. James (Ellen Needs)  female  47.0      1      0   \n",
       "2                     Myles, Mr. Thomas Francis    male  62.0      0      0   \n",
       "3                              Wirz, Mr. Albert    male  27.0      0      0   \n",
       "4  Hirvonen, Mrs. Alexander (Helga E Lindqvist)  female  22.0      1      1   \n",
       "\n",
       "    Ticket     Fare Cabin Embarked  \n",
       "0   330911   7.8292   NaN        Q  \n",
       "1   363272   7.0000   NaN        S  \n",
       "2   240276   9.6875   NaN        Q  \n",
       "3   315154   8.6625   NaN        S  \n",
       "4  3101298  12.2875   NaN        S  "
      ]
     },
     "execution_count": 187,
     "metadata": {},
     "output_type": "execute_result"
    }
   ],
   "source": [
    "df.head()\n"
   ]
  },
  {
   "cell_type": "markdown",
   "id": "2e7a8cc6",
   "metadata": {},
   "source": [
    "##### <b>----></b>   There is alots of null values in cabin column </br>\n",
    "##### <b>----></b>   There is columns with non numeric data (Name, sex, Embarked) </br>\n",
    "##### <b>----></b>   Data is not normalized </br>\n",
    "##### <b>----></b>   Some features are extra and will not be usable according to the scenerio to predict servival rate\n"
   ]
  },
  {
   "cell_type": "code",
   "execution_count": 188,
   "id": "ed5e0c5c",
   "metadata": {},
   "outputs": [
    {
     "data": {
      "text/html": [
       "<div>\n",
       "<style scoped>\n",
       "    .dataframe tbody tr th:only-of-type {\n",
       "        vertical-align: middle;\n",
       "    }\n",
       "\n",
       "    .dataframe tbody tr th {\n",
       "        vertical-align: top;\n",
       "    }\n",
       "\n",
       "    .dataframe thead th {\n",
       "        text-align: right;\n",
       "    }\n",
       "</style>\n",
       "<table border=\"1\" class=\"dataframe\">\n",
       "  <thead>\n",
       "    <tr style=\"text-align: right;\">\n",
       "      <th></th>\n",
       "      <th>PassengerId</th>\n",
       "      <th>Survived</th>\n",
       "      <th>Pclass</th>\n",
       "      <th>Age</th>\n",
       "      <th>SibSp</th>\n",
       "      <th>Parch</th>\n",
       "      <th>Fare</th>\n",
       "    </tr>\n",
       "  </thead>\n",
       "  <tbody>\n",
       "    <tr>\n",
       "      <th>count</th>\n",
       "      <td>418.000000</td>\n",
       "      <td>418.000000</td>\n",
       "      <td>418.000000</td>\n",
       "      <td>332.000000</td>\n",
       "      <td>418.000000</td>\n",
       "      <td>418.000000</td>\n",
       "      <td>417.000000</td>\n",
       "    </tr>\n",
       "    <tr>\n",
       "      <th>mean</th>\n",
       "      <td>1100.500000</td>\n",
       "      <td>0.363636</td>\n",
       "      <td>2.265550</td>\n",
       "      <td>31.167169</td>\n",
       "      <td>0.447368</td>\n",
       "      <td>0.392344</td>\n",
       "      <td>35.627188</td>\n",
       "    </tr>\n",
       "    <tr>\n",
       "      <th>std</th>\n",
       "      <td>120.810458</td>\n",
       "      <td>0.481622</td>\n",
       "      <td>0.841838</td>\n",
       "      <td>14.612050</td>\n",
       "      <td>0.896760</td>\n",
       "      <td>0.981429</td>\n",
       "      <td>55.907576</td>\n",
       "    </tr>\n",
       "    <tr>\n",
       "      <th>min</th>\n",
       "      <td>892.000000</td>\n",
       "      <td>0.000000</td>\n",
       "      <td>1.000000</td>\n",
       "      <td>1.000000</td>\n",
       "      <td>0.000000</td>\n",
       "      <td>0.000000</td>\n",
       "      <td>0.000000</td>\n",
       "    </tr>\n",
       "    <tr>\n",
       "      <th>25%</th>\n",
       "      <td>996.250000</td>\n",
       "      <td>0.000000</td>\n",
       "      <td>1.000000</td>\n",
       "      <td>22.000000</td>\n",
       "      <td>0.000000</td>\n",
       "      <td>0.000000</td>\n",
       "      <td>7.895800</td>\n",
       "    </tr>\n",
       "    <tr>\n",
       "      <th>50%</th>\n",
       "      <td>1100.500000</td>\n",
       "      <td>0.000000</td>\n",
       "      <td>3.000000</td>\n",
       "      <td>28.000000</td>\n",
       "      <td>0.000000</td>\n",
       "      <td>0.000000</td>\n",
       "      <td>14.454200</td>\n",
       "    </tr>\n",
       "    <tr>\n",
       "      <th>75%</th>\n",
       "      <td>1204.750000</td>\n",
       "      <td>1.000000</td>\n",
       "      <td>3.000000</td>\n",
       "      <td>40.000000</td>\n",
       "      <td>1.000000</td>\n",
       "      <td>0.000000</td>\n",
       "      <td>31.500000</td>\n",
       "    </tr>\n",
       "    <tr>\n",
       "      <th>max</th>\n",
       "      <td>1309.000000</td>\n",
       "      <td>1.000000</td>\n",
       "      <td>3.000000</td>\n",
       "      <td>92.000000</td>\n",
       "      <td>8.000000</td>\n",
       "      <td>9.000000</td>\n",
       "      <td>512.329200</td>\n",
       "    </tr>\n",
       "  </tbody>\n",
       "</table>\n",
       "</div>"
      ],
      "text/plain": [
       "       PassengerId    Survived      Pclass         Age       SibSp  \\\n",
       "count   418.000000  418.000000  418.000000  332.000000  418.000000   \n",
       "mean   1100.500000    0.363636    2.265550   31.167169    0.447368   \n",
       "std     120.810458    0.481622    0.841838   14.612050    0.896760   \n",
       "min     892.000000    0.000000    1.000000    1.000000    0.000000   \n",
       "25%     996.250000    0.000000    1.000000   22.000000    0.000000   \n",
       "50%    1100.500000    0.000000    3.000000   28.000000    0.000000   \n",
       "75%    1204.750000    1.000000    3.000000   40.000000    1.000000   \n",
       "max    1309.000000    1.000000    3.000000   92.000000    8.000000   \n",
       "\n",
       "            Parch        Fare  \n",
       "count  418.000000  417.000000  \n",
       "mean     0.392344   35.627188  \n",
       "std      0.981429   55.907576  \n",
       "min      0.000000    0.000000  \n",
       "25%      0.000000    7.895800  \n",
       "50%      0.000000   14.454200  \n",
       "75%      0.000000   31.500000  \n",
       "max      9.000000  512.329200  "
      ]
     },
     "execution_count": 188,
     "metadata": {},
     "output_type": "execute_result"
    }
   ],
   "source": [
    "df.describe()"
   ]
  },
  {
   "cell_type": "markdown",
   "id": "50deef06",
   "metadata": {},
   "source": [
    "#####    Here from describe method we get some insights </br>\n",
    "##### <b>----></b>   Age column has null value </br>\n",
    "##### <b>----></b>   There may be outlier in Age and Fare which will effect the accuracy  </br>\n",
    "##### <b>----></b>   There is one empty cell in fare\n",
    "\n",
    "\n",
    "\n"
   ]
  },
  {
   "cell_type": "code",
   "execution_count": 189,
   "id": "400fc762",
   "metadata": {},
   "outputs": [
    {
     "name": "stdout",
     "output_type": "stream",
     "text": [
      "Number of People Survived:  152\n",
      "Number of People not Survived :  418\n",
      "Total number of People:  418\n",
      "survival rate :  36.36363636363637\n"
     ]
    }
   ],
   "source": [
    "#first we have to know how many people servived and what was the survival rate\n",
    "survived=df['Survived'].sum()\n",
    "total_pasanger=len(df['Survived'])\n",
    "not_survived=total_pasanger-survived\n",
    "print(\"Number of People Survived: \",survived)\n",
    "print(\"Number of People not Survived : \",total_pasanger)\n",
    "print(\"Total number of People: \",total_pasanger)\n",
    "print('survival rate : ',(survived*100)/total_pasanger)"
   ]
  },
  {
   "cell_type": "markdown",
   "id": "225133de",
   "metadata": {},
   "source": [
    "##### As some column ( PassangerId, Name, Cabin ) which has no relation and also there is alots of empty cell so remove it <br>"
   ]
  },
  {
   "cell_type": "code",
   "execution_count": 190,
   "id": "d6c39263",
   "metadata": {},
   "outputs": [],
   "source": [
    "df=df.drop(['PassengerId','Name','Cabin','Ticket'],axis=1)"
   ]
  },
  {
   "cell_type": "code",
   "execution_count": 191,
   "id": "3ad2495e",
   "metadata": {},
   "outputs": [
    {
     "data": {
      "text/html": [
       "<div>\n",
       "<style scoped>\n",
       "    .dataframe tbody tr th:only-of-type {\n",
       "        vertical-align: middle;\n",
       "    }\n",
       "\n",
       "    .dataframe tbody tr th {\n",
       "        vertical-align: top;\n",
       "    }\n",
       "\n",
       "    .dataframe thead th {\n",
       "        text-align: right;\n",
       "    }\n",
       "</style>\n",
       "<table border=\"1\" class=\"dataframe\">\n",
       "  <thead>\n",
       "    <tr style=\"text-align: right;\">\n",
       "      <th></th>\n",
       "      <th>Survived</th>\n",
       "      <th>Pclass</th>\n",
       "      <th>Sex</th>\n",
       "      <th>Age</th>\n",
       "      <th>SibSp</th>\n",
       "      <th>Parch</th>\n",
       "      <th>Fare</th>\n",
       "      <th>Embarked</th>\n",
       "    </tr>\n",
       "  </thead>\n",
       "  <tbody>\n",
       "    <tr>\n",
       "      <th>0</th>\n",
       "      <td>0</td>\n",
       "      <td>3</td>\n",
       "      <td>male</td>\n",
       "      <td>34.5</td>\n",
       "      <td>0</td>\n",
       "      <td>0</td>\n",
       "      <td>7.8292</td>\n",
       "      <td>Q</td>\n",
       "    </tr>\n",
       "    <tr>\n",
       "      <th>1</th>\n",
       "      <td>1</td>\n",
       "      <td>3</td>\n",
       "      <td>female</td>\n",
       "      <td>47.0</td>\n",
       "      <td>1</td>\n",
       "      <td>0</td>\n",
       "      <td>7.0000</td>\n",
       "      <td>S</td>\n",
       "    </tr>\n",
       "    <tr>\n",
       "      <th>2</th>\n",
       "      <td>0</td>\n",
       "      <td>2</td>\n",
       "      <td>male</td>\n",
       "      <td>62.0</td>\n",
       "      <td>0</td>\n",
       "      <td>0</td>\n",
       "      <td>9.6875</td>\n",
       "      <td>Q</td>\n",
       "    </tr>\n",
       "    <tr>\n",
       "      <th>3</th>\n",
       "      <td>0</td>\n",
       "      <td>3</td>\n",
       "      <td>male</td>\n",
       "      <td>27.0</td>\n",
       "      <td>0</td>\n",
       "      <td>0</td>\n",
       "      <td>8.6625</td>\n",
       "      <td>S</td>\n",
       "    </tr>\n",
       "    <tr>\n",
       "      <th>4</th>\n",
       "      <td>1</td>\n",
       "      <td>3</td>\n",
       "      <td>female</td>\n",
       "      <td>22.0</td>\n",
       "      <td>1</td>\n",
       "      <td>1</td>\n",
       "      <td>12.2875</td>\n",
       "      <td>S</td>\n",
       "    </tr>\n",
       "  </tbody>\n",
       "</table>\n",
       "</div>"
      ],
      "text/plain": [
       "   Survived  Pclass     Sex   Age  SibSp  Parch     Fare Embarked\n",
       "0         0       3    male  34.5      0      0   7.8292        Q\n",
       "1         1       3  female  47.0      1      0   7.0000        S\n",
       "2         0       2    male  62.0      0      0   9.6875        Q\n",
       "3         0       3    male  27.0      0      0   8.6625        S\n",
       "4         1       3  female  22.0      1      1  12.2875        S"
      ]
     },
     "execution_count": 191,
     "metadata": {},
     "output_type": "execute_result"
    }
   ],
   "source": [
    "df.head()"
   ]
  },
  {
   "cell_type": "markdown",
   "id": "90edcf71",
   "metadata": {},
   "source": [
    "<div style=\"text-align:center\">\n",
    "<h1 style=\"color:black;\">Step 2   :   Data Visualization</h1>\n",
    "</div>\n"
   ]
  },
  {
   "cell_type": "markdown",
   "id": "138a0e1b",
   "metadata": {},
   "source": [
    "#####    Lets visualize the data and see how data is related and how data is distributed </br>\n",
    "#####    Age and Fare is continues so draw the distribution <br>"
   ]
  },
  {
   "cell_type": "markdown",
   "id": "e8bb3549",
   "metadata": {},
   "source": [
    "##### Now to visualize the data first convert the non numeric data to numeric data \n",
    "##### <b>----></b>   Convert (Sex, Embarked) to non numberic  </br>\n",
    "##### <b>----></b>   Sex has 2 categories male and female replace male with 1 and female with 0</br>\n",
    "##### <b>----></b>   Embarked has 3 categories C,Q and S replace C with 1, Q with 2 and S with 0"
   ]
  },
  {
   "cell_type": "code",
   "execution_count": 192,
   "id": "69ae6e4a",
   "metadata": {},
   "outputs": [],
   "source": [
    "#lets make map female:0, male:1\n",
    "df['Sex']=df['Sex'].map({'male':1,'female':0})"
   ]
  },
  {
   "cell_type": "code",
   "execution_count": 193,
   "id": "fc2f19bb",
   "metadata": {},
   "outputs": [
    {
     "name": "stdout",
     "output_type": "stream",
     "text": [
      "['Q' 'S' 'C']\n"
     ]
    }
   ],
   "source": [
    "print(df['Embarked'].unique())"
   ]
  },
  {
   "cell_type": "code",
   "execution_count": 194,
   "id": "1fb2a0c7",
   "metadata": {},
   "outputs": [],
   "source": [
    "#lets map C:1, Q;2, S:3\n",
    "df['Embarked']=df['Embarked'].map({'C':1,'Q':2,'S':3})\n"
   ]
  },
  {
   "cell_type": "code",
   "execution_count": 195,
   "id": "88b8b03e",
   "metadata": {},
   "outputs": [
    {
     "data": {
      "text/html": [
       "<div>\n",
       "<style scoped>\n",
       "    .dataframe tbody tr th:only-of-type {\n",
       "        vertical-align: middle;\n",
       "    }\n",
       "\n",
       "    .dataframe tbody tr th {\n",
       "        vertical-align: top;\n",
       "    }\n",
       "\n",
       "    .dataframe thead th {\n",
       "        text-align: right;\n",
       "    }\n",
       "</style>\n",
       "<table border=\"1\" class=\"dataframe\">\n",
       "  <thead>\n",
       "    <tr style=\"text-align: right;\">\n",
       "      <th></th>\n",
       "      <th>Survived</th>\n",
       "      <th>Pclass</th>\n",
       "      <th>Sex</th>\n",
       "      <th>Age</th>\n",
       "      <th>SibSp</th>\n",
       "      <th>Parch</th>\n",
       "      <th>Fare</th>\n",
       "      <th>Embarked</th>\n",
       "    </tr>\n",
       "  </thead>\n",
       "  <tbody>\n",
       "    <tr>\n",
       "      <th>0</th>\n",
       "      <td>0</td>\n",
       "      <td>3</td>\n",
       "      <td>1</td>\n",
       "      <td>34.5</td>\n",
       "      <td>0</td>\n",
       "      <td>0</td>\n",
       "      <td>7.8292</td>\n",
       "      <td>2</td>\n",
       "    </tr>\n",
       "    <tr>\n",
       "      <th>1</th>\n",
       "      <td>1</td>\n",
       "      <td>3</td>\n",
       "      <td>0</td>\n",
       "      <td>47.0</td>\n",
       "      <td>1</td>\n",
       "      <td>0</td>\n",
       "      <td>7.0000</td>\n",
       "      <td>3</td>\n",
       "    </tr>\n",
       "    <tr>\n",
       "      <th>2</th>\n",
       "      <td>0</td>\n",
       "      <td>2</td>\n",
       "      <td>1</td>\n",
       "      <td>62.0</td>\n",
       "      <td>0</td>\n",
       "      <td>0</td>\n",
       "      <td>9.6875</td>\n",
       "      <td>2</td>\n",
       "    </tr>\n",
       "    <tr>\n",
       "      <th>3</th>\n",
       "      <td>0</td>\n",
       "      <td>3</td>\n",
       "      <td>1</td>\n",
       "      <td>27.0</td>\n",
       "      <td>0</td>\n",
       "      <td>0</td>\n",
       "      <td>8.6625</td>\n",
       "      <td>3</td>\n",
       "    </tr>\n",
       "    <tr>\n",
       "      <th>4</th>\n",
       "      <td>1</td>\n",
       "      <td>3</td>\n",
       "      <td>0</td>\n",
       "      <td>22.0</td>\n",
       "      <td>1</td>\n",
       "      <td>1</td>\n",
       "      <td>12.2875</td>\n",
       "      <td>3</td>\n",
       "    </tr>\n",
       "  </tbody>\n",
       "</table>\n",
       "</div>"
      ],
      "text/plain": [
       "   Survived  Pclass  Sex   Age  SibSp  Parch     Fare  Embarked\n",
       "0         0       3    1  34.5      0      0   7.8292         2\n",
       "1         1       3    0  47.0      1      0   7.0000         3\n",
       "2         0       2    1  62.0      0      0   9.6875         2\n",
       "3         0       3    1  27.0      0      0   8.6625         3\n",
       "4         1       3    0  22.0      1      1  12.2875         3"
      ]
     },
     "execution_count": 195,
     "metadata": {},
     "output_type": "execute_result"
    }
   ],
   "source": [
    "df.head()"
   ]
  },
  {
   "cell_type": "code",
   "execution_count": 196,
   "id": "f4683702",
   "metadata": {},
   "outputs": [
    {
     "data": {
      "image/png": "[encoded data removed]",
      "text/plain": [
       "<Figure size 720x1800 with 8 Axes>"
      ]
     },
     "metadata": {},
     "output_type": "display_data"
    }
   ],
   "source": [
    "#now lets check outliers in data\n",
    "import matplotlib.pyplot as plt\n",
    "\n",
    "# Create a figure and a set of subplots\n",
    "fig, axes = plt.subplots(nrows=8, ncols=1, figsize=(10, 25))\n",
    "\n",
    "# Plot a histogram for 'Survived'\n",
    "axes[0].hist(df['Survived'],bins=3, color='skyblue', edgecolor='black')\n",
    "axes[0].set_title('Suvived Distribution')\n",
    "axes[0].set_xlabel('Survived')\n",
    "axes[0].set_ylabel('Frequency')\n",
    "\n",
    "# Plot a histogram for 'Pclass'\n",
    "axes[1].hist(df['Pclass'], bins=5, color='salmon', edgecolor='black')\n",
    "axes[1].set_title('Pclass Distribution')\n",
    "axes[1].set_xlabel('Pclass')\n",
    "axes[1].set_ylabel('Frequency')\n",
    "\n",
    "\n",
    "# Plot a histogram for 'Sex'\n",
    "axes[2].hist(df['Sex'], bins=3, color='skyblue', edgecolor='black')\n",
    "axes[2].set_title('Sex Distribution')\n",
    "axes[2].set_xlabel('Sex')\n",
    "axes[2].set_ylabel('Frequency')\n",
    "\n",
    "#Plot a histogram for 'Age'\n",
    "axes[3].hist(df['Age'], bins=20, color='salmon', edgecolor='black')\n",
    "axes[3].set_title('Age Distribution')\n",
    "axes[3].set_xlabel('Age')\n",
    "axes[3].set_ylabel('Frequency')\n",
    "\n",
    "# Plot a histogram for 'SibSp'\n",
    "axes[4].hist(df['SibSp'], bins=3, color='skyblue', edgecolor='black')\n",
    "axes[4].set_title('SibSp Distribution')\n",
    "axes[4].set_xlabel('SibSp')\n",
    "axes[4].set_ylabel('Frequency')\n",
    "\n",
    "# Plot a histogram for 'Parch'\n",
    "axes[5].hist(df['Parch'], bins=20, color='salmon', edgecolor='black')\n",
    "axes[5].set_title('Parch Distribution')\n",
    "axes[5].set_xlabel('Parch')\n",
    "axes[5].set_ylabel('Frequency')\n",
    "\n",
    "# Plot a histogram for 'Fare'\n",
    "axes[6].hist(df['Fare'], bins=20, color='skyblue', edgecolor='black')\n",
    "axes[6].set_title('Fare Distribution')\n",
    "axes[6].set_xlabel('Fare')\n",
    "axes[6].set_ylabel('Frequency')\n",
    "\n",
    "\n",
    "# Plot a histogram for 'Embarked'\n",
    "axes[7].hist(df['Embarked'], bins=5, color='salmon', edgecolor='black')\n",
    "axes[7].set_title('Embarked Distribution')\n",
    "axes[7].set_xlabel('Embarked')\n",
    "axes[7].set_ylabel('Frequency')\n",
    "\n",
    "# Display the plots\n",
    "plt.tight_layout()\n",
    "plt.show()"
   ]
  },
  {
   "cell_type": "markdown",
   "id": "c41c2a8b",
   "metadata": {},
   "source": [
    "##### Lets visualize the data weather there is outliers or not"
   ]
  },
  {
   "cell_type": "code",
   "execution_count": 197,
   "id": "27b3a2b6",
   "metadata": {},
   "outputs": [
    {
     "data": {
      "image/png": "[encoded data removed]",
      "text/plain": [
       "<Figure size 864x432 with 1 Axes>"
      ]
     },
     "metadata": {},
     "output_type": "display_data"
    }
   ],
   "source": [
    "plt.figure(figsize=(12, 6))  # Set the figure size\n",
    "df.boxplot()  # Create horizontal box plots for all numerical columns\n",
    "\n",
    "# Set title and labels\n",
    "plt.title(\"Box Plots for Numerical Columns\")\n",
    "plt.xlabel(\"Values\")\n",
    "\n",
    "# Show the plot\n",
    "plt.show()"
   ]
  },
  {
   "cell_type": "markdown",
   "id": "782599a0",
   "metadata": {},
   "source": [
    "##### Know visualize Survived and other parameter relation as survived is the target "
   ]
  },
  {
   "cell_type": "code",
   "execution_count": 198,
   "id": "a08b7744",
   "metadata": {},
   "outputs": [
    {
     "name": "stdout",
     "output_type": "stream",
     "text": [
      "1    50\n",
      "2    30\n",
      "3    72\n",
      "Name: Pclass, dtype: int64\n"
     ]
    },
    {
     "data": {
      "image/png": "[encoded data removed]",
      "text/plain": [
       "<Figure size 720x432 with 1 Axes>"
      ]
     },
     "metadata": {},
     "output_type": "display_data"
    },
    {
     "name": "stdout",
     "output_type": "stream",
     "text": [
      "0    152\n",
      "Name: Sex, dtype: int64\n"
     ]
    },
    {
     "data": {
      "image/png": "[encoded data removed]",
      "text/plain": [
       "<Figure size 720x432 with 1 Axes>"
      ]
     },
     "metadata": {},
     "output_type": "display_data"
    },
    {
     "name": "stdout",
     "output_type": "stream",
     "text": [
      "(0, 10]      8\n",
      "(10, 20]    23\n",
      "(20, 30]    45\n",
      "(30, 40]    20\n",
      "(40, 50]    15\n",
      "(50, 60]    11\n",
      "(60, 70]     3\n",
      "(70, 80]     1\n",
      "(80, 90]     0\n",
      "Name: AgeGroup, dtype: int64\n"
     ]
    },
    {
     "data": {
      "image/png": "[encoded data removed]",
      "text/plain": [
       "<Figure size 720x432 with 1 Axes>"
      ]
     },
     "metadata": {},
     "output_type": "display_data"
    },
    {
     "name": "stdout",
     "output_type": "stream",
     "text": [
      "0    88\n",
      "1    54\n",
      "2     6\n",
      "3     1\n",
      "4     1\n",
      "5     1\n",
      "8     1\n",
      "Name: SibSp, dtype: int64\n"
     ]
    },
    {
     "data": {
      "image/png": "[encoded data removed]",
      "text/plain": [
       "<Figure size 720x432 with 1 Axes>"
      ]
     },
     "metadata": {},
     "output_type": "display_data"
    },
    {
     "name": "stdout",
     "output_type": "stream",
     "text": [
      "0    99\n",
      "1    28\n",
      "2    20\n",
      "3     2\n",
      "4     2\n",
      "9     1\n",
      "Name: Parch, dtype: int64\n"
     ]
    },
    {
     "data": {
      "image/png": "[encoded data removed]",
      "text/plain": [
       "<Figure size 720x432 with 1 Axes>"
      ]
     },
     "metadata": {},
     "output_type": "display_data"
    },
    {
     "name": "stdout",
     "output_type": "stream",
     "text": [
      "(0, 50]       109\n",
      "(50, 100]      24\n",
      "(100, 150]      5\n",
      "(150, 200]      2\n",
      "(200, 250]      6\n",
      "(250, 300]      5\n",
      "(300, 350]      0\n",
      "(350, 400]      0\n",
      "(400, 450]      0\n",
      "(450, 500]      0\n",
      "(500, 550]      1\n",
      "Name: FareGroup, dtype: int64\n"
     ]
    },
    {
     "data": {
      "image/png": "[encoded data removed]",
      "text/plain": [
       "<Figure size 720x432 with 1 Axes>"
      ]
     },
     "metadata": {},
     "output_type": "display_data"
    },
    {
     "name": "stdout",
     "output_type": "stream",
     "text": [
      "1    40\n",
      "2    24\n",
      "3    88\n",
      "Name: Embarked, dtype: int64\n"
     ]
    },
    {
     "data": {
      "image/png": "[encoded data removed]",
      "text/plain": [
       "<Figure size 432x288 with 1 Axes>"
      ]
     },
     "metadata": {},
     "output_type": "display_data"
    }
   ],
   "source": [
    "#                                 Visualize Number of survivor by Pclass\n",
    "\n",
    "# Count the number of survivors in each Pclass group\n",
    "Pclass_survivor_counts = df[df['Survived'] == 1]['Pclass'].value_counts().sort_index()\n",
    "print(Pclass_survivor_counts)\n",
    "#Create a bar chart to visualize the number of survivors by Pclass group\n",
    "plt.figure(figsize=(10, 6))\n",
    "Pclass_survivor_counts.plot(kind='bar', color='skyblue', edgecolor='black')\n",
    "plt.title('Number of Survivors by Pclass')\n",
    "plt.xlabel('Pclass')\n",
    "plt.ylabel('Number of Survivors')\n",
    "plt.xticks(rotation=0)\n",
    "plt.show()\n",
    "\n",
    "\n",
    "#                                 Visualize Number of survivor by Sex\n",
    "\n",
    "# Count the number of survivors in each Sex\n",
    "Sex_survivor_counts = df[df['Survived'] == 1]['Sex'].value_counts().sort_index()\n",
    "print(Sex_survivor_counts)\n",
    "#Create a bar chart to visualize the number of survivors by  Sex\n",
    "plt.figure(figsize=(10, 6))\n",
    "Sex_survivor_counts.plot(kind='bar', color='skyblue', edgecolor='black')\n",
    "plt.title('Number of Survivors by Sex')\n",
    "plt.xlabel('Sex')\n",
    "plt.ylabel('Number of Survivors')\n",
    "plt.xticks(rotation=0)\n",
    "plt.show()\n",
    "\n",
    "\n",
    "#                                 Visualize Number of survivor by Age\n",
    "\n",
    "# Define the age bins or categories\n",
    "age_bins = [0, 10, 20, 30, 40, 50, 60, 70, 80, 90]\n",
    "\n",
    "# Create a new column in the DataFrame to represent the age group\n",
    "df['AgeGroup'] = pd.cut(df['Age'], bins=age_bins)\n",
    "\n",
    "# Count the number of survivors in each age group\n",
    "age_survivor_counts = df[df['Survived'] == 1]['AgeGroup'].value_counts().sort_index()\n",
    "print(age_survivor_counts)\n",
    "#Create a bar chart to visualize the number of survivors by age group\n",
    "plt.figure(figsize=(10, 6))\n",
    "age_survivor_counts.plot(kind='bar', color='skyblue', edgecolor='black')\n",
    "plt.title('Number of Survivors by Age Group')\n",
    "plt.xlabel('Age Group')\n",
    "plt.ylabel('Number of Survivors')\n",
    "plt.xticks(rotation=45)\n",
    "plt.show()\n",
    "\n",
    "#                                 Visualize Number of survivor by Sibsp\n",
    "\n",
    "# Count the number of survivors in each Sibsp\n",
    "Sibsp_survivor_counts = df[df['Survived'] == 1]['SibSp'].value_counts().sort_index()\n",
    "print(Sibsp_survivor_counts)\n",
    "#Create a bar chart to visualize the number of survivors by  SibspSibspSibsp\n",
    "plt.figure(figsize=(10, 6))\n",
    "Sibsp_survivor_counts.plot(kind='bar', color='skyblue', edgecolor='black')\n",
    "plt.title('Number of Survivors by SibspSibsp')\n",
    "plt.xlabel('Sibsp')\n",
    "plt.ylabel('Number of Survivors')\n",
    "plt.xticks(rotation=0)\n",
    "plt.show()\n",
    "\n",
    "#                                 Visualize Number of survivor by Parch\n",
    "\n",
    "# Count the number of survivors in each Sibsp\n",
    "Parch_survivor_counts = df[df['Survived'] == 1]['Parch'].value_counts().sort_index()\n",
    "print(Parch_survivor_counts)\n",
    "#Create a bar chart to visualize the number of survivors by  Parch\n",
    "plt.figure(figsize=(10, 6))\n",
    "Parch_survivor_counts.plot(kind='bar', color='skyblue', edgecolor='black')\n",
    "plt.title('Number of Survivors by Parch')\n",
    "plt.xlabel('Parch')\n",
    "plt.ylabel('Number of Survivors')\n",
    "plt.xticks(rotation=0)\n",
    "plt.show()\n",
    "\n",
    "#                                 Visualize Number of survivor by Fare\n",
    "\n",
    "# Count the number of survivors by fare\n",
    "fare_bins=[0,50,100,150,200,250,300,350,400,450,500,550]\n",
    "\n",
    "df['FareGroup']=pd.cut(df['Fare'],bins=fare_bins)\n",
    "\n",
    "fare_survivor_count=df[df['Survived']==1]['FareGroup'].value_counts().sort_index()\n",
    "print(fare_survivor_count)\n",
    "plt.figure(figsize=(10,6))\n",
    "fare_survivor_count.plot(kind='bar',color='skyblue',edgecolor='black')\n",
    "plt.title(\"Survival by Fare\")\n",
    "plt.xlabel(\"Fare group\")\n",
    "plt.ylabel(\"Survival\")\n",
    "plt.xticks(rotation=45)\n",
    "plt.show()\n",
    "\n",
    "#                                 Visualize Number of survivor by Embarked\n",
    "\n",
    "# Count the number of survivors in each Embarked\n",
    "Embarked_survivor_counts = df[df['Survived'] == 1]['Embarked'].value_counts().sort_index()\n",
    "print(Embarked_survivor_counts)\n",
    "#Create a bar chart to visualize the number of survivors by  SexEmbarked\n",
    "Embarked_survivor_counts.plot(kind='bar', color='skyblue', edgecolor='black')\n",
    "plt.title('Number of Survivors by Embarked')\n",
    "plt.xlabel('Embarked')\n",
    "plt.ylabel('Number of Survivors')\n",
    "plt.xticks(rotation=0)\n",
    "plt.show()\n"
   ]
  },
  {
   "cell_type": "code",
   "execution_count": 199,
   "id": "b091da20",
   "metadata": {},
   "outputs": [
    {
     "data": {
      "text/plain": [
       "array([0, 1, 2, 3, 4, 5, 8], dtype=int64)"
      ]
     },
     "execution_count": 199,
     "metadata": {},
     "output_type": "execute_result"
    }
   ],
   "source": [
    "df['SibSp'].unique()"
   ]
  },
  {
   "cell_type": "markdown",
   "id": "8b1cfc03",
   "metadata": {},
   "source": [
    "\n",
    "\n",
    "##### Insights from Box Plot :\n",
    "\n",
    "######    ------->  There is outliers in Fare feature lets handle \n",
    "    \n",
    "\n",
    "##### Insights from survival rate against each feature :\n",
    "\n",
    "######  -------> Pclass   :-  survival rate is high for Pclass 3\n",
    "######    -------> Sex      :-  All female survived and there is no men survived\n",
    "######    -------> Age      :-  Survival rate for age group between 10-40 year age is high \n",
    "######    -------> Sibsp    :-  The survival rate for 0 and 1 is high and very low for other\n",
    "######    -------> Parch    :-  survival rate for Parch is high when parch is 0-2\n",
    "######    -------> Fare     :-  Survival rate for Fare is high when Fare is low \n",
    "######   -------> Embarked :   Survival rate is high when Embarked is 3 \n",
    "\n"
   ]
  },
  {
   "cell_type": "markdown",
   "id": "9ec9664f",
   "metadata": {},
   "source": [
    "<div style=\"text-align:center\">\n",
    "<h1 style=\"color:black;\">Step 3   :   Correlation Analysis</h1>\n",
    "</div>\n"
   ]
  },
  {
   "cell_type": "markdown",
   "id": "707b35f2",
   "metadata": {},
   "source": [
    "##### Lets find the correlation between features and Target"
   ]
  },
  {
   "cell_type": "code",
   "execution_count": 200,
   "id": "b9c5216b",
   "metadata": {},
   "outputs": [
    {
     "name": "stdout",
     "output_type": "stream",
     "text": [
      "          Survived    Pclass       Sex       Age     SibSp     Parch  \\\n",
      "Survived  1.000000 -0.108615 -1.000000 -0.002434  0.099943  0.159120   \n",
      "Pclass   -0.108615  1.000000  0.108615 -0.437814  0.001087  0.018721   \n",
      "Sex      -1.000000  0.108615  1.000000  0.002434 -0.099943 -0.159120   \n",
      "Age      -0.002434 -0.437814  0.002434  1.000000 -0.079655  0.022045   \n",
      "SibSp     0.099943  0.001087 -0.099943 -0.079655  1.000000  0.306895   \n",
      "Parch     0.159120  0.018721 -0.159120  0.022045  0.306895  1.000000   \n",
      "Fare      0.191514 -0.577147 -0.191514  0.303766  0.171539  0.230046   \n",
      "Embarked -0.076281  0.227983  0.076281 -0.130741  0.052708  0.054577   \n",
      "\n",
      "              Fare  Embarked  \n",
      "Survived  0.191514 -0.076281  \n",
      "Pclass   -0.577147  0.227983  \n",
      "Sex      -0.191514  0.076281  \n",
      "Age       0.303766 -0.130741  \n",
      "SibSp     0.171539  0.052708  \n",
      "Parch     0.230046  0.054577  \n",
      "Fare      1.000000 -0.257183  \n",
      "Embarked -0.257183  1.000000  \n"
     ]
    }
   ],
   "source": [
    "correlation_matrix=df.corr()\n",
    "print(correlation_matrix)"
   ]
  },
  {
   "cell_type": "code",
   "execution_count": 201,
   "id": "f95c1ea6",
   "metadata": {},
   "outputs": [
    {
     "name": "stdout",
     "output_type": "stream",
     "text": [
      "Survived    1.000000\n",
      "Sex         1.000000\n",
      "Fare        0.191514\n",
      "Parch       0.159120\n",
      "Pclass      0.108615\n",
      "SibSp       0.099943\n",
      "Embarked    0.076281\n",
      "Age         0.002434\n",
      "Name: Survived, dtype: float64\n"
     ]
    }
   ],
   "source": [
    "correlation_matrix = df.corr()\n",
    "\n",
    "correlation_with_survived = correlation_matrix['Survived']\n",
    "\n",
    "sorted_correlation = correlation_with_survived.abs().sort_values(ascending=False)\n",
    "print(sorted_correlation)"
   ]
  },
  {
   "cell_type": "markdown",
   "id": "7ab144ff",
   "metadata": {},
   "source": [
    "<div style=\"text-align:center\">\n",
    "<h1 style=\"color:black;\">Step 4   :   Data Cleaning</h1>\n",
    "</div>\n"
   ]
  },
  {
   "cell_type": "markdown",
   "id": "eb40def6",
   "metadata": {},
   "source": [
    "### Handling missing   values"
   ]
  },
  {
   "cell_type": "markdown",
   "id": "d596e40c",
   "metadata": {},
   "source": [
    "##### As there were alots of missing values is in Age which is 84 out 418 if we remove the empty cell then it will result in lose of data so the best approach is to fill it with mean values"
   ]
  },
  {
   "cell_type": "code",
   "execution_count": 202,
   "id": "27d926ef",
   "metadata": {},
   "outputs": [
    {
     "name": "stdout",
     "output_type": "stream",
     "text": [
      "86\n",
      "31.167168674698797\n"
     ]
    }
   ],
   "source": [
    "# replace null values with mean of Age\n",
    "df['Age'].isna().sum()\n",
    "print(df['Age'].isna().sum())\n",
    "age_mean=df['Age'].mean()\n",
    "print(age_mean)"
   ]
  },
  {
   "cell_type": "code",
   "execution_count": 203,
   "id": "5e4d2e65",
   "metadata": {},
   "outputs": [],
   "source": [
    "df['Age'].fillna(31,inplace=True)"
   ]
  },
  {
   "cell_type": "markdown",
   "id": "78176b19",
   "metadata": {},
   "source": [
    "##### There is one missing value in Fare now fill this using mean\n"
   ]
  },
  {
   "cell_type": "code",
   "execution_count": 204,
   "id": "c7bf27d7",
   "metadata": {},
   "outputs": [
    {
     "name": "stdout",
     "output_type": "stream",
     "text": [
      "     Survived  Pclass  Sex   Age  SibSp  Parch  Fare  Embarked  AgeGroup  \\\n",
      "152         0       3    1  60.5      0      0   NaN         3  (60, 70]   \n",
      "\n",
      "    FareGroup  \n",
      "152       NaN  \n"
     ]
    }
   ],
   "source": [
    "null_fare_row=df[df['Fare'].isnull()]\n",
    "print(null_fare_row)"
   ]
  },
  {
   "cell_type": "code",
   "execution_count": 205,
   "id": "82c166ff",
   "metadata": {},
   "outputs": [],
   "source": [
    "df['Fare'].fillna(df['Fare'].mean(),inplace=True)"
   ]
  },
  {
   "cell_type": "markdown",
   "id": "1eeca722",
   "metadata": {},
   "source": [
    "##### There many outliers in Fare column but if we change it this will effect the result one data point it too much out so let's remove it. \n"
   ]
  },
  {
   "cell_type": "code",
   "execution_count": 206,
   "id": "1228de64",
   "metadata": {},
   "outputs": [
    {
     "data": {
      "text/html": [
       "<div>\n",
       "<style scoped>\n",
       "    .dataframe tbody tr th:only-of-type {\n",
       "        vertical-align: middle;\n",
       "    }\n",
       "\n",
       "    .dataframe tbody tr th {\n",
       "        vertical-align: top;\n",
       "    }\n",
       "\n",
       "    .dataframe thead th {\n",
       "        text-align: right;\n",
       "    }\n",
       "</style>\n",
       "<table border=\"1\" class=\"dataframe\">\n",
       "  <thead>\n",
       "    <tr style=\"text-align: right;\">\n",
       "      <th></th>\n",
       "      <th>Survived</th>\n",
       "      <th>Pclass</th>\n",
       "      <th>Sex</th>\n",
       "      <th>Age</th>\n",
       "      <th>SibSp</th>\n",
       "      <th>Parch</th>\n",
       "      <th>Fare</th>\n",
       "      <th>Embarked</th>\n",
       "      <th>AgeGroup</th>\n",
       "      <th>FareGroup</th>\n",
       "    </tr>\n",
       "  </thead>\n",
       "  <tbody>\n",
       "    <tr>\n",
       "      <th>343</th>\n",
       "      <td>1</td>\n",
       "      <td>1</td>\n",
       "      <td>0</td>\n",
       "      <td>58.0</td>\n",
       "      <td>0</td>\n",
       "      <td>1</td>\n",
       "      <td>512.3292</td>\n",
       "      <td>1</td>\n",
       "      <td>(50, 60]</td>\n",
       "      <td>(500, 550]</td>\n",
       "    </tr>\n",
       "  </tbody>\n",
       "</table>\n",
       "</div>"
      ],
      "text/plain": [
       "     Survived  Pclass  Sex   Age  SibSp  Parch      Fare  Embarked  AgeGroup  \\\n",
       "343         1       1    0  58.0      0      1  512.3292         1  (50, 60]   \n",
       "\n",
       "      FareGroup  \n",
       "343  (500, 550]  "
      ]
     },
     "execution_count": 206,
     "metadata": {},
     "output_type": "execute_result"
    }
   ],
   "source": [
    "df[df['Fare']>300]"
   ]
  },
  {
   "cell_type": "code",
   "execution_count": 207,
   "id": "2b10a938",
   "metadata": {},
   "outputs": [
    {
     "data": {
      "text/html": [
       "<div>\n",
       "<style scoped>\n",
       "    .dataframe tbody tr th:only-of-type {\n",
       "        vertical-align: middle;\n",
       "    }\n",
       "\n",
       "    .dataframe tbody tr th {\n",
       "        vertical-align: top;\n",
       "    }\n",
       "\n",
       "    .dataframe thead th {\n",
       "        text-align: right;\n",
       "    }\n",
       "</style>\n",
       "<table border=\"1\" class=\"dataframe\">\n",
       "  <thead>\n",
       "    <tr style=\"text-align: right;\">\n",
       "      <th></th>\n",
       "      <th>Survived</th>\n",
       "      <th>Pclass</th>\n",
       "      <th>Sex</th>\n",
       "      <th>Age</th>\n",
       "      <th>SibSp</th>\n",
       "      <th>Parch</th>\n",
       "      <th>Fare</th>\n",
       "      <th>Embarked</th>\n",
       "      <th>AgeGroup</th>\n",
       "      <th>FareGroup</th>\n",
       "    </tr>\n",
       "  </thead>\n",
       "  <tbody>\n",
       "  </tbody>\n",
       "</table>\n",
       "</div>"
      ],
      "text/plain": [
       "Empty DataFrame\n",
       "Columns: [Survived, Pclass, Sex, Age, SibSp, Parch, Fare, Embarked, AgeGroup, FareGroup]\n",
       "Index: []"
      ]
     },
     "execution_count": 207,
     "metadata": {},
     "output_type": "execute_result"
    }
   ],
   "source": [
    "df=df[df['Fare']<300]\n",
    "df[df['Fare']>300]\n"
   ]
  },
  {
   "cell_type": "code",
   "execution_count": 208,
   "id": "d6d97438",
   "metadata": {},
   "outputs": [
    {
     "name": "stdout",
     "output_type": "stream",
     "text": [
      "(0, 50]       109\n",
      "(50, 100]      24\n",
      "(100, 150]      5\n",
      "(150, 200]      2\n",
      "(200, 250]      6\n",
      "(250, 300]      5\n",
      "Name: FareGroup, dtype: int64\n"
     ]
    },
    {
     "data": {
      "text/plain": [
       "[]"
      ]
     },
     "execution_count": 208,
     "metadata": {},
     "output_type": "execute_result"
    },
    {
     "data": {
      "image/png": "[encoded data removed]",
      "text/plain": [
       "<Figure size 720x432 with 1 Axes>"
      ]
     },
     "metadata": {},
     "output_type": "display_data"
    }
   ],
   "source": [
    "fare_bins=[0,50,100,150,200,250,300]\n",
    "\n",
    "df['FareGroup']=pd.cut(df['Fare'],bins=fare_bins)\n",
    "\n",
    "fare_survivor_count=df[df['Survived']==1]['FareGroup'].value_counts().sort_index()\n",
    "print(fare_survivor_count)\n",
    "plt.figure(figsize=(10,6))\n",
    "fare_survivor_count.plot(kind='bar',color='skyblue',edgecolor='blue')\n",
    "plt.title(\"Survival by Fare\")\n",
    "plt.xlabel(\"Fare group\")\n",
    "plt.ylabel(\"Survival\")\n",
    "plt.xticks(rotation=45)\n",
    "plt.plot()\n"
   ]
  },
  {
   "cell_type": "markdown",
   "id": "d3f11582",
   "metadata": {},
   "source": [
    "###### Removed the outlier with the value of 512 this was the only value which lied in 500-600 category and all other values lies in 0-300 "
   ]
  },
  {
   "cell_type": "code",
   "execution_count": 209,
   "id": "387bbbe1",
   "metadata": {},
   "outputs": [
    {
     "data": {
      "text/html": [
       "<div>\n",
       "<style scoped>\n",
       "    .dataframe tbody tr th:only-of-type {\n",
       "        vertical-align: middle;\n",
       "    }\n",
       "\n",
       "    .dataframe tbody tr th {\n",
       "        vertical-align: top;\n",
       "    }\n",
       "\n",
       "    .dataframe thead th {\n",
       "        text-align: right;\n",
       "    }\n",
       "</style>\n",
       "<table border=\"1\" class=\"dataframe\">\n",
       "  <thead>\n",
       "    <tr style=\"text-align: right;\">\n",
       "      <th></th>\n",
       "      <th>Survived</th>\n",
       "      <th>Pclass</th>\n",
       "      <th>Sex</th>\n",
       "      <th>Age</th>\n",
       "      <th>SibSp</th>\n",
       "      <th>Parch</th>\n",
       "      <th>Fare</th>\n",
       "      <th>Embarked</th>\n",
       "    </tr>\n",
       "  </thead>\n",
       "  <tbody>\n",
       "    <tr>\n",
       "      <th>count</th>\n",
       "      <td>417.000000</td>\n",
       "      <td>417.000000</td>\n",
       "      <td>417.000000</td>\n",
       "      <td>417.000000</td>\n",
       "      <td>417.000000</td>\n",
       "      <td>417.000000</td>\n",
       "      <td>417.000000</td>\n",
       "      <td>417.000000</td>\n",
       "    </tr>\n",
       "    <tr>\n",
       "      <th>mean</th>\n",
       "      <td>0.362110</td>\n",
       "      <td>2.268585</td>\n",
       "      <td>0.637890</td>\n",
       "      <td>31.068345</td>\n",
       "      <td>0.448441</td>\n",
       "      <td>0.390887</td>\n",
       "      <td>34.484018</td>\n",
       "      <td>2.405276</td>\n",
       "    </tr>\n",
       "    <tr>\n",
       "      <th>std</th>\n",
       "      <td>0.481188</td>\n",
       "      <td>0.840556</td>\n",
       "      <td>0.481188</td>\n",
       "      <td>12.967304</td>\n",
       "      <td>0.897568</td>\n",
       "      <td>0.982155</td>\n",
       "      <td>50.774851</td>\n",
       "      <td>0.852751</td>\n",
       "    </tr>\n",
       "    <tr>\n",
       "      <th>min</th>\n",
       "      <td>0.000000</td>\n",
       "      <td>1.000000</td>\n",
       "      <td>0.000000</td>\n",
       "      <td>1.000000</td>\n",
       "      <td>0.000000</td>\n",
       "      <td>0.000000</td>\n",
       "      <td>0.000000</td>\n",
       "      <td>1.000000</td>\n",
       "    </tr>\n",
       "    <tr>\n",
       "      <th>25%</th>\n",
       "      <td>0.000000</td>\n",
       "      <td>1.000000</td>\n",
       "      <td>0.000000</td>\n",
       "      <td>23.000000</td>\n",
       "      <td>0.000000</td>\n",
       "      <td>0.000000</td>\n",
       "      <td>7.895800</td>\n",
       "      <td>2.000000</td>\n",
       "    </tr>\n",
       "    <tr>\n",
       "      <th>50%</th>\n",
       "      <td>0.000000</td>\n",
       "      <td>3.000000</td>\n",
       "      <td>1.000000</td>\n",
       "      <td>31.000000</td>\n",
       "      <td>0.000000</td>\n",
       "      <td>0.000000</td>\n",
       "      <td>14.454200</td>\n",
       "      <td>3.000000</td>\n",
       "    </tr>\n",
       "    <tr>\n",
       "      <th>75%</th>\n",
       "      <td>1.000000</td>\n",
       "      <td>3.000000</td>\n",
       "      <td>1.000000</td>\n",
       "      <td>36.000000</td>\n",
       "      <td>1.000000</td>\n",
       "      <td>0.000000</td>\n",
       "      <td>31.500000</td>\n",
       "      <td>3.000000</td>\n",
       "    </tr>\n",
       "    <tr>\n",
       "      <th>max</th>\n",
       "      <td>1.000000</td>\n",
       "      <td>3.000000</td>\n",
       "      <td>1.000000</td>\n",
       "      <td>92.000000</td>\n",
       "      <td>8.000000</td>\n",
       "      <td>9.000000</td>\n",
       "      <td>263.000000</td>\n",
       "      <td>3.000000</td>\n",
       "    </tr>\n",
       "  </tbody>\n",
       "</table>\n",
       "</div>"
      ],
      "text/plain": [
       "         Survived      Pclass         Sex         Age       SibSp       Parch  \\\n",
       "count  417.000000  417.000000  417.000000  417.000000  417.000000  417.000000   \n",
       "mean     0.362110    2.268585    0.637890   31.068345    0.448441    0.390887   \n",
       "std      0.481188    0.840556    0.481188   12.967304    0.897568    0.982155   \n",
       "min      0.000000    1.000000    0.000000    1.000000    0.000000    0.000000   \n",
       "25%      0.000000    1.000000    0.000000   23.000000    0.000000    0.000000   \n",
       "50%      0.000000    3.000000    1.000000   31.000000    0.000000    0.000000   \n",
       "75%      1.000000    3.000000    1.000000   36.000000    1.000000    0.000000   \n",
       "max      1.000000    3.000000    1.000000   92.000000    8.000000    9.000000   \n",
       "\n",
       "             Fare    Embarked  \n",
       "count  417.000000  417.000000  \n",
       "mean    34.484018    2.405276  \n",
       "std     50.774851    0.852751  \n",
       "min      0.000000    1.000000  \n",
       "25%      7.895800    2.000000  \n",
       "50%     14.454200    3.000000  \n",
       "75%     31.500000    3.000000  \n",
       "max    263.000000    3.000000  "
      ]
     },
     "execution_count": 209,
     "metadata": {},
     "output_type": "execute_result"
    }
   ],
   "source": [
    "df.describe()"
   ]
  },
  {
   "cell_type": "code",
   "execution_count": 210,
   "id": "d74e8a1d",
   "metadata": {},
   "outputs": [
    {
     "data": {
      "text/html": [
       "<div>\n",
       "<style scoped>\n",
       "    .dataframe tbody tr th:only-of-type {\n",
       "        vertical-align: middle;\n",
       "    }\n",
       "\n",
       "    .dataframe tbody tr th {\n",
       "        vertical-align: top;\n",
       "    }\n",
       "\n",
       "    .dataframe thead th {\n",
       "        text-align: right;\n",
       "    }\n",
       "</style>\n",
       "<table border=\"1\" class=\"dataframe\">\n",
       "  <thead>\n",
       "    <tr style=\"text-align: right;\">\n",
       "      <th></th>\n",
       "      <th>Survived</th>\n",
       "      <th>Pclass</th>\n",
       "      <th>Sex</th>\n",
       "      <th>Age</th>\n",
       "      <th>SibSp</th>\n",
       "      <th>Parch</th>\n",
       "      <th>Fare</th>\n",
       "      <th>Embarked</th>\n",
       "      <th>AgeGroup</th>\n",
       "      <th>FareGroup</th>\n",
       "    </tr>\n",
       "  </thead>\n",
       "  <tbody>\n",
       "    <tr>\n",
       "      <th>0</th>\n",
       "      <td>0</td>\n",
       "      <td>3</td>\n",
       "      <td>1</td>\n",
       "      <td>34.5</td>\n",
       "      <td>0</td>\n",
       "      <td>0</td>\n",
       "      <td>7.8292</td>\n",
       "      <td>2</td>\n",
       "      <td>(30, 40]</td>\n",
       "      <td>(0, 50]</td>\n",
       "    </tr>\n",
       "    <tr>\n",
       "      <th>1</th>\n",
       "      <td>1</td>\n",
       "      <td>3</td>\n",
       "      <td>0</td>\n",
       "      <td>47.0</td>\n",
       "      <td>1</td>\n",
       "      <td>0</td>\n",
       "      <td>7.0000</td>\n",
       "      <td>3</td>\n",
       "      <td>(40, 50]</td>\n",
       "      <td>(0, 50]</td>\n",
       "    </tr>\n",
       "    <tr>\n",
       "      <th>2</th>\n",
       "      <td>0</td>\n",
       "      <td>2</td>\n",
       "      <td>1</td>\n",
       "      <td>62.0</td>\n",
       "      <td>0</td>\n",
       "      <td>0</td>\n",
       "      <td>9.6875</td>\n",
       "      <td>2</td>\n",
       "      <td>(60, 70]</td>\n",
       "      <td>(0, 50]</td>\n",
       "    </tr>\n",
       "    <tr>\n",
       "      <th>3</th>\n",
       "      <td>0</td>\n",
       "      <td>3</td>\n",
       "      <td>1</td>\n",
       "      <td>27.0</td>\n",
       "      <td>0</td>\n",
       "      <td>0</td>\n",
       "      <td>8.6625</td>\n",
       "      <td>3</td>\n",
       "      <td>(20, 30]</td>\n",
       "      <td>(0, 50]</td>\n",
       "    </tr>\n",
       "    <tr>\n",
       "      <th>4</th>\n",
       "      <td>1</td>\n",
       "      <td>3</td>\n",
       "      <td>0</td>\n",
       "      <td>22.0</td>\n",
       "      <td>1</td>\n",
       "      <td>1</td>\n",
       "      <td>12.2875</td>\n",
       "      <td>3</td>\n",
       "      <td>(20, 30]</td>\n",
       "      <td>(0, 50]</td>\n",
       "    </tr>\n",
       "  </tbody>\n",
       "</table>\n",
       "</div>"
      ],
      "text/plain": [
       "   Survived  Pclass  Sex   Age  SibSp  Parch     Fare  Embarked  AgeGroup  \\\n",
       "0         0       3    1  34.5      0      0   7.8292         2  (30, 40]   \n",
       "1         1       3    0  47.0      1      0   7.0000         3  (40, 50]   \n",
       "2         0       2    1  62.0      0      0   9.6875         2  (60, 70]   \n",
       "3         0       3    1  27.0      0      0   8.6625         3  (20, 30]   \n",
       "4         1       3    0  22.0      1      1  12.2875         3  (20, 30]   \n",
       "\n",
       "  FareGroup  \n",
       "0   (0, 50]  \n",
       "1   (0, 50]  \n",
       "2   (0, 50]  \n",
       "3   (0, 50]  \n",
       "4   (0, 50]  "
      ]
     },
     "execution_count": 210,
     "metadata": {},
     "output_type": "execute_result"
    }
   ],
   "source": [
    "df.head()"
   ]
  },
  {
   "cell_type": "code",
   "execution_count": 211,
   "id": "d6750542",
   "metadata": {},
   "outputs": [],
   "source": [
    "df=df.drop(['AgeGroup','FareGroup'],axis=1)"
   ]
  },
  {
   "cell_type": "markdown",
   "id": "e8a809f7",
   "metadata": {},
   "source": [
    "###### Normalize the data to make all data in one scale"
   ]
  },
  {
   "cell_type": "code",
   "execution_count": 212,
   "id": "6b0146d1",
   "metadata": {},
   "outputs": [],
   "source": [
    "\n",
    "from sklearn.preprocessing import MinMaxScaler\n",
    "scaler= MinMaxScaler()\n",
    "df['Age']=scaler.fit_transform(df[['Age']])\n",
    "df['Fare']=scaler.fit_transform(df[['Fare']])\n",
    "df['Pclass']=scaler.fit_transform(df[['Pclass']])\n",
    "df['Embarked']=scaler.fit_transform(df[['Embarked']])\n"
   ]
  },
  {
   "cell_type": "code",
   "execution_count": 213,
   "id": "f129ba78",
   "metadata": {},
   "outputs": [
    {
     "data": {
      "text/html": [
       "<div>\n",
       "<style scoped>\n",
       "    .dataframe tbody tr th:only-of-type {\n",
       "        vertical-align: middle;\n",
       "    }\n",
       "\n",
       "    .dataframe tbody tr th {\n",
       "        vertical-align: top;\n",
       "    }\n",
       "\n",
       "    .dataframe thead th {\n",
       "        text-align: right;\n",
       "    }\n",
       "</style>\n",
       "<table border=\"1\" class=\"dataframe\">\n",
       "  <thead>\n",
       "    <tr style=\"text-align: right;\">\n",
       "      <th></th>\n",
       "      <th>Survived</th>\n",
       "      <th>Pclass</th>\n",
       "      <th>Sex</th>\n",
       "      <th>Age</th>\n",
       "      <th>SibSp</th>\n",
       "      <th>Parch</th>\n",
       "      <th>Fare</th>\n",
       "      <th>Embarked</th>\n",
       "    </tr>\n",
       "  </thead>\n",
       "  <tbody>\n",
       "    <tr>\n",
       "      <th>0</th>\n",
       "      <td>0</td>\n",
       "      <td>1.0</td>\n",
       "      <td>1</td>\n",
       "      <td>0.368132</td>\n",
       "      <td>0</td>\n",
       "      <td>0</td>\n",
       "      <td>0.029769</td>\n",
       "      <td>0.5</td>\n",
       "    </tr>\n",
       "    <tr>\n",
       "      <th>1</th>\n",
       "      <td>1</td>\n",
       "      <td>1.0</td>\n",
       "      <td>0</td>\n",
       "      <td>0.505495</td>\n",
       "      <td>1</td>\n",
       "      <td>0</td>\n",
       "      <td>0.026616</td>\n",
       "      <td>1.0</td>\n",
       "    </tr>\n",
       "    <tr>\n",
       "      <th>2</th>\n",
       "      <td>0</td>\n",
       "      <td>0.5</td>\n",
       "      <td>1</td>\n",
       "      <td>0.670330</td>\n",
       "      <td>0</td>\n",
       "      <td>0</td>\n",
       "      <td>0.036835</td>\n",
       "      <td>0.5</td>\n",
       "    </tr>\n",
       "    <tr>\n",
       "      <th>3</th>\n",
       "      <td>0</td>\n",
       "      <td>1.0</td>\n",
       "      <td>1</td>\n",
       "      <td>0.285714</td>\n",
       "      <td>0</td>\n",
       "      <td>0</td>\n",
       "      <td>0.032937</td>\n",
       "      <td>1.0</td>\n",
       "    </tr>\n",
       "    <tr>\n",
       "      <th>4</th>\n",
       "      <td>1</td>\n",
       "      <td>1.0</td>\n",
       "      <td>0</td>\n",
       "      <td>0.230769</td>\n",
       "      <td>1</td>\n",
       "      <td>1</td>\n",
       "      <td>0.046721</td>\n",
       "      <td>1.0</td>\n",
       "    </tr>\n",
       "  </tbody>\n",
       "</table>\n",
       "</div>"
      ],
      "text/plain": [
       "   Survived  Pclass  Sex       Age  SibSp  Parch      Fare  Embarked\n",
       "0         0     1.0    1  0.368132      0      0  0.029769       0.5\n",
       "1         1     1.0    0  0.505495      1      0  0.026616       1.0\n",
       "2         0     0.5    1  0.670330      0      0  0.036835       0.5\n",
       "3         0     1.0    1  0.285714      0      0  0.032937       1.0\n",
       "4         1     1.0    0  0.230769      1      1  0.046721       1.0"
      ]
     },
     "execution_count": 213,
     "metadata": {},
     "output_type": "execute_result"
    }
   ],
   "source": [
    "df.head()"
   ]
  },
  {
   "cell_type": "markdown",
   "id": "8e663be8",
   "metadata": {},
   "source": [
    "<div style=\"text-align:center\">\n",
    "<h2 style=\"color:black;\">Step 5   :   Splitting Data\n",
    "    </h2>\n",
    "</div>\n"
   ]
  },
  {
   "cell_type": "markdown",
   "id": "f9349e36",
   "metadata": {},
   "source": [
    "###### Split the data set into Dependent and independent variable"
   ]
  },
  {
   "cell_type": "code",
   "execution_count": 214,
   "id": "01bf3e94",
   "metadata": {},
   "outputs": [],
   "source": [
    "\n",
    "#spliting dependant and independant vairalbe\n",
    "x=df.iloc[:,1:].values\n",
    "\n",
    "y=df.iloc[:,:1].values"
   ]
  },
  {
   "cell_type": "markdown",
   "id": "c48ff563",
   "metadata": {},
   "source": [
    "###### Split the data set into train and test dataset and will keep the ratio of 70:30 , 70 for training and 30 for testing"
   ]
  },
  {
   "cell_type": "code",
   "execution_count": 215,
   "id": "c6337488",
   "metadata": {},
   "outputs": [
    {
     "name": "stdout",
     "output_type": "stream",
     "text": [
      "[[0.         0.         0.82417582 ... 0.         0.29980989 1.        ]\n",
      " [1.         1.         0.27472527 ... 0.         0.02995894 0.5       ]\n",
      " [0.5        1.         0.01098901 ... 1.         0.08745247 1.        ]\n",
      " ...\n",
      " [1.         0.         0.         ... 1.         0.0634981  1.        ]\n",
      " [1.         1.         0.32967033 ... 0.         0.02946768 0.5       ]\n",
      " [1.         1.         0.24175824 ... 0.         0.05285171 1.        ]]\n"
     ]
    }
   ],
   "source": [
    "\n",
    "x_train,x_test,y_train,y_test=train_test_split(x,y,test_size=0.3,random_state=0)\n",
    "print(x_train)"
   ]
  },
  {
   "cell_type": "code",
   "execution_count": 216,
   "id": "d344bb51",
   "metadata": {},
   "outputs": [
    {
     "data": {
      "text/html": [
       "<div>\n",
       "<style scoped>\n",
       "    .dataframe tbody tr th:only-of-type {\n",
       "        vertical-align: middle;\n",
       "    }\n",
       "\n",
       "    .dataframe tbody tr th {\n",
       "        vertical-align: top;\n",
       "    }\n",
       "\n",
       "    .dataframe thead th {\n",
       "        text-align: right;\n",
       "    }\n",
       "</style>\n",
       "<table border=\"1\" class=\"dataframe\">\n",
       "  <thead>\n",
       "    <tr style=\"text-align: right;\">\n",
       "      <th></th>\n",
       "      <th>Survived</th>\n",
       "      <th>Pclass</th>\n",
       "      <th>Sex</th>\n",
       "      <th>Age</th>\n",
       "      <th>SibSp</th>\n",
       "      <th>Parch</th>\n",
       "      <th>Fare</th>\n",
       "      <th>Embarked</th>\n",
       "    </tr>\n",
       "  </thead>\n",
       "  <tbody>\n",
       "    <tr>\n",
       "      <th>0</th>\n",
       "      <td>0</td>\n",
       "      <td>1.0</td>\n",
       "      <td>1</td>\n",
       "      <td>0.368132</td>\n",
       "      <td>0</td>\n",
       "      <td>0</td>\n",
       "      <td>0.029769</td>\n",
       "      <td>0.5</td>\n",
       "    </tr>\n",
       "    <tr>\n",
       "      <th>1</th>\n",
       "      <td>1</td>\n",
       "      <td>1.0</td>\n",
       "      <td>0</td>\n",
       "      <td>0.505495</td>\n",
       "      <td>1</td>\n",
       "      <td>0</td>\n",
       "      <td>0.026616</td>\n",
       "      <td>1.0</td>\n",
       "    </tr>\n",
       "    <tr>\n",
       "      <th>2</th>\n",
       "      <td>0</td>\n",
       "      <td>0.5</td>\n",
       "      <td>1</td>\n",
       "      <td>0.670330</td>\n",
       "      <td>0</td>\n",
       "      <td>0</td>\n",
       "      <td>0.036835</td>\n",
       "      <td>0.5</td>\n",
       "    </tr>\n",
       "    <tr>\n",
       "      <th>3</th>\n",
       "      <td>0</td>\n",
       "      <td>1.0</td>\n",
       "      <td>1</td>\n",
       "      <td>0.285714</td>\n",
       "      <td>0</td>\n",
       "      <td>0</td>\n",
       "      <td>0.032937</td>\n",
       "      <td>1.0</td>\n",
       "    </tr>\n",
       "    <tr>\n",
       "      <th>4</th>\n",
       "      <td>1</td>\n",
       "      <td>1.0</td>\n",
       "      <td>0</td>\n",
       "      <td>0.230769</td>\n",
       "      <td>1</td>\n",
       "      <td>1</td>\n",
       "      <td>0.046721</td>\n",
       "      <td>1.0</td>\n",
       "    </tr>\n",
       "  </tbody>\n",
       "</table>\n",
       "</div>"
      ],
      "text/plain": [
       "   Survived  Pclass  Sex       Age  SibSp  Parch      Fare  Embarked\n",
       "0         0     1.0    1  0.368132      0      0  0.029769       0.5\n",
       "1         1     1.0    0  0.505495      1      0  0.026616       1.0\n",
       "2         0     0.5    1  0.670330      0      0  0.036835       0.5\n",
       "3         0     1.0    1  0.285714      0      0  0.032937       1.0\n",
       "4         1     1.0    0  0.230769      1      1  0.046721       1.0"
      ]
     },
     "execution_count": 216,
     "metadata": {},
     "output_type": "execute_result"
    }
   ],
   "source": [
    "df.head()"
   ]
  },
  {
   "cell_type": "markdown",
   "id": "5a5f2bcf",
   "metadata": {},
   "source": [
    "<div style=\"text-align:center\">\n",
    "<h2 style=\"color:black;\">Step 6   :   Model Training\n",
    "    </h2>\n",
    "</div>\n"
   ]
  },
  {
   "cell_type": "markdown",
   "id": "8287dbf6",
   "metadata": {},
   "source": [
    "### Training multiple model to check which model perform well"
   ]
  },
  {
   "cell_type": "markdown",
   "id": "430a7871",
   "metadata": {},
   "source": [
    "## Logistic regression"
   ]
  },
  {
   "cell_type": "code",
   "execution_count": 217,
   "id": "1f7eff97",
   "metadata": {},
   "outputs": [
    {
     "name": "stderr",
     "output_type": "stream",
     "text": [
      "C:\\pythoAnaconda\\lib\\site-packages\\sklearn\\utils\\validation.py:993: DataConversionWarning: A column-vector y was passed when a 1d array was expected. Please change the shape of y to (n_samples, ), for example using ravel().\n",
      "  y = column_or_1d(y, warn=True)\n"
     ]
    },
    {
     "data": {
      "text/plain": [
       "LogisticRegression()"
      ]
     },
     "execution_count": 217,
     "metadata": {},
     "output_type": "execute_result"
    }
   ],
   "source": [
    "LR_model= LogisticRegression()\n",
    "LR_model.fit(x_train,y_train)"
   ]
  },
  {
   "cell_type": "markdown",
   "id": "6fcdf256",
   "metadata": {},
   "source": [
    "<div style=\"text-align:center\">\n",
    "<h2 style=\"color:black;\">Step 7   :   Model Assessment\n",
    "    </h2>\n",
    "</div>\n"
   ]
  },
  {
   "cell_type": "code",
   "execution_count": 218,
   "id": "f3a9b392",
   "metadata": {},
   "outputs": [],
   "source": [
    "Lr_y_pred=LR_model.predict(x_test)"
   ]
  },
  {
   "cell_type": "code",
   "execution_count": 219,
   "id": "4e41e3f9",
   "metadata": {},
   "outputs": [
    {
     "name": "stdout",
     "output_type": "stream",
     "text": [
      "              precision    recall  f1-score   support\n",
      "\n",
      "           0       1.00      1.00      1.00        70\n",
      "           1       1.00      1.00      1.00        56\n",
      "\n",
      "    accuracy                           1.00       126\n",
      "   macro avg       1.00      1.00      1.00       126\n",
      "weighted avg       1.00      1.00      1.00       126\n",
      "\n"
     ]
    }
   ],
   "source": [
    "print(classification_report(y_test,Lr_y_pred))"
   ]
  },
  {
   "cell_type": "markdown",
   "id": "945b7732",
   "metadata": {},
   "source": [
    "<div style=\"text-align:center\">\n",
    "<h2 style=\"color:black;\">Step 8   :   Model Result Visualization\n",
    "    </h2>\n",
    "</div>\n"
   ]
  },
  {
   "cell_type": "code",
   "execution_count": 220,
   "id": "b3bcb771",
   "metadata": {},
   "outputs": [],
   "source": [
    "Lr_cm=confusion_matrix(y_test,Lr_y_pred)"
   ]
  },
  {
   "cell_type": "code",
   "execution_count": 221,
   "id": "31169a1a",
   "metadata": {},
   "outputs": [
    {
     "data": {
      "image/png": "[encoded data removed]",
      "text/plain": [
       "<Figure size 432x288 with 1 Axes>"
      ]
     },
     "metadata": {},
     "output_type": "display_data"
    }
   ],
   "source": [
    "sns.set(font_scale=1.2)\n",
    "sns.heatmap(Lr_cm, annot=True, fmt='d', cmap='Blues', square=True, cbar=False)\n",
    "plt.xlabel('Predicted')\n",
    "plt.ylabel('Actual')\n",
    "plt.title('Confusion Matrix')\n",
    "plt.show()"
   ]
  },
  {
   "cell_type": "markdown",
   "id": "52e17db1",
   "metadata": {},
   "source": [
    "<div style=\"text-align:center\">\n",
    "<h2 style=\"color:black;\">Result   :   Model is giving 100% accuracy\n",
    "    </h2>\n",
    "</div>\n"
   ]
  },
  {
   "cell_type": "markdown",
   "id": "59d92e26",
   "metadata": {},
   "source": [
    "## Random Forest Classifier"
   ]
  },
  {
   "cell_type": "code",
   "execution_count": 222,
   "id": "b8bb5822",
   "metadata": {},
   "outputs": [
    {
     "name": "stderr",
     "output_type": "stream",
     "text": [
      "C:\\Users\\Muhammad Ismail\\AppData\\Local\\Temp\\ipykernel_5188\\100341695.py:2: DataConversionWarning: A column-vector y was passed when a 1d array was expected. Please change the shape of y to (n_samples,), for example using ravel().\n",
      "  rf_model.fit(x_train, y_train)\n"
     ]
    },
    {
     "name": "stdout",
     "output_type": "stream",
     "text": [
      "              precision    recall  f1-score   support\n",
      "\n",
      "           0       1.00      1.00      1.00        70\n",
      "           1       1.00      1.00      1.00        56\n",
      "\n",
      "    accuracy                           1.00       126\n",
      "   macro avg       1.00      1.00      1.00       126\n",
      "weighted avg       1.00      1.00      1.00       126\n",
      "\n"
     ]
    },
    {
     "data": {
      "image/png": "[encoded data removed]",
      "text/plain": [
       "<Figure size 432x288 with 1 Axes>"
      ]
     },
     "metadata": {},
     "output_type": "display_data"
    }
   ],
   "source": [
    "rf_model = RandomForestClassifier()\n",
    "rf_model.fit(x_train, y_train)\n",
    "\n",
    "Rf_y_pred=rf_model.predict(x_test)\n",
    "\n",
    "print(classification_report(y_test,Rf_y_pred))\n",
    "\n",
    "Rf_cm=confusion_matrix(y_test,Rf_y_pred)\n",
    "\n",
    "sns.set(font_scale=1.2)\n",
    "sns.heatmap(Rf_cm, annot=True, fmt='d', cmap='Blues', square=True, cbar=False)\n",
    "plt.xlabel('Predicted')\n",
    "plt.ylabel('Actual')\n",
    "plt.title('Confusion Matrix')\n",
    "plt.show()"
   ]
  },
  {
   "cell_type": "markdown",
   "id": "7e7e96b9",
   "metadata": {},
   "source": [
    "## Support Vector Machine (SVM)"
   ]
  },
  {
   "cell_type": "code",
   "execution_count": 223,
   "id": "60d78828",
   "metadata": {},
   "outputs": [
    {
     "name": "stdout",
     "output_type": "stream",
     "text": [
      "              precision    recall  f1-score   support\n",
      "\n",
      "           0       0.99      1.00      0.99        70\n",
      "           1       1.00      0.98      0.99        56\n",
      "\n",
      "    accuracy                           0.99       126\n",
      "   macro avg       0.99      0.99      0.99       126\n",
      "weighted avg       0.99      0.99      0.99       126\n",
      "\n"
     ]
    },
    {
     "name": "stderr",
     "output_type": "stream",
     "text": [
      "C:\\pythoAnaconda\\lib\\site-packages\\sklearn\\utils\\validation.py:993: DataConversionWarning: A column-vector y was passed when a 1d array was expected. Please change the shape of y to (n_samples, ), for example using ravel().\n",
      "  y = column_or_1d(y, warn=True)\n"
     ]
    },
    {
     "data": {
      "image/png": "[encoded data removed]",
      "text/plain": [
       "<Figure size 432x288 with 1 Axes>"
      ]
     },
     "metadata": {},
     "output_type": "display_data"
    }
   ],
   "source": [
    "# Train the Support Vector Machine (SVM) model\n",
    "svm_model = SVC(random_state=42)\n",
    "svm_model.fit(x_train, y_train)\n",
    "\n",
    "# Predict with the trained model\n",
    "svm_pred= svm_model.predict(x_test)\n",
    "                            \n",
    "print(classification_report(y_test,svm_pred))\n",
    "\n",
    "svm_cm=confusion_matrix(y_test,svm_pred)\n",
    "\n",
    "sns.set(font_scale=1.2)\n",
    "sns.heatmap(svm_cm, annot=True, fmt='d', cmap='Blues', square=True, cbar=False)\n",
    "plt.xlabel('Predicted')\n",
    "plt.ylabel('Actual')\n",
    "plt.title('Confusion Matrix')\n",
    "plt.show()"
   ]
  },
  {
   "cell_type": "markdown",
   "id": "b51bbf6d",
   "metadata": {},
   "source": [
    "## Naive Bayes Classifier"
   ]
  },
  {
   "cell_type": "code",
   "execution_count": 224,
   "id": "8b093fa6",
   "metadata": {},
   "outputs": [
    {
     "name": "stdout",
     "output_type": "stream",
     "text": [
      "              precision    recall  f1-score   support\n",
      "\n",
      "           0       1.00      1.00      1.00        70\n",
      "           1       1.00      1.00      1.00        56\n",
      "\n",
      "    accuracy                           1.00       126\n",
      "   macro avg       1.00      1.00      1.00       126\n",
      "weighted avg       1.00      1.00      1.00       126\n",
      "\n"
     ]
    },
    {
     "name": "stderr",
     "output_type": "stream",
     "text": [
      "C:\\pythoAnaconda\\lib\\site-packages\\sklearn\\utils\\validation.py:993: DataConversionWarning: A column-vector y was passed when a 1d array was expected. Please change the shape of y to (n_samples, ), for example using ravel().\n",
      "  y = column_or_1d(y, warn=True)\n"
     ]
    },
    {
     "data": {
      "image/png": "[encoded data removed]",
      "text/plain": [
       "<Figure size 432x288 with 1 Axes>"
      ]
     },
     "metadata": {},
     "output_type": "display_data"
    }
   ],
   "source": [
    "# Create a Gaussian Naive Bayes classifier\n",
    "NB_model = GaussianNB()\n",
    "\n",
    "# Train the classifier on the training data\n",
    "NB_model.fit(x_train, y_train)\n",
    "\n",
    "# Make predictions on the test data\n",
    "NB_pred = NB_model.predict(x_test)\n",
    "\n",
    "                            \n",
    "print(classification_report(y_test,NB_pred))\n",
    "\n",
    "NB_cm=confusion_matrix(y_test,NB_pred)\n",
    "\n",
    "sns.set(font_scale=1.2)\n",
    "sns.heatmap(NB_cm, annot=True, fmt='d', cmap='Blues', square=True, cbar=False)\n",
    "plt.xlabel('Predicted')\n",
    "plt.ylabel('Actual')\n",
    "plt.title('Confusion Matrix')\n",
    "plt.show()"
   ]
  },
  {
   "cell_type": "markdown",
   "id": "e2592f4e",
   "metadata": {},
   "source": [
    "## Decision Tree Classifier"
   ]
  },
  {
   "cell_type": "code",
   "execution_count": 225,
   "id": "4ddc32f1",
   "metadata": {},
   "outputs": [
    {
     "name": "stdout",
     "output_type": "stream",
     "text": [
      "              precision    recall  f1-score   support\n",
      "\n",
      "           0       1.00      1.00      1.00        70\n",
      "           1       1.00      1.00      1.00        56\n",
      "\n",
      "    accuracy                           1.00       126\n",
      "   macro avg       1.00      1.00      1.00       126\n",
      "weighted avg       1.00      1.00      1.00       126\n",
      "\n"
     ]
    },
    {
     "data": {
      "image/png": "[encoded data removed]",
      "text/plain": [
       "<Figure size 432x288 with 1 Axes>"
      ]
     },
     "metadata": {},
     "output_type": "display_data"
    }
   ],
   "source": [
    "# Create a Decision Tree classifier\n",
    "DT_model = DecisionTreeClassifier(random_state=42)\n",
    "\n",
    "# Train the classifier on the training data\n",
    "DT_model.fit(x_train, y_train)\n",
    "\n",
    "# Make predictions on the test data\n",
    "DT_pred= DT_model.predict(x_test)\n",
    "\n",
    "                            \n",
    "print(classification_report(y_test,DT_pred))\n",
    "\n",
    "DT_cm=confusion_matrix(y_test,DT_pred)\n",
    "\n",
    "sns.set(font_scale=1.2)\n",
    "sns.heatmap(DT_cm, annot=True, fmt='d', cmap='Blues', square=True, cbar=False)\n",
    "plt.xlabel('Predicted')\n",
    "plt.ylabel('Actual')\n",
    "plt.title('Confusion Matrix')\n",
    "plt.show()"
   ]
  }
 ],
 "metadata": {
  "kernelspec": {
   "display_name": "Python 3 (ipykernel)",
   "language": "python",
   "name": "python3"
  },
  "language_info": {
   "codemirror_mode": {
    "name": "ipython",
    "version": 3
   },
   "file_extension": ".py",
   "mimetype": "text/x-python",
   "name": "python",
   "nbconvert_exporter": "python",
   "pygments_lexer": "ipython3",
   "version": "3.9.12"
  }
 },
 "nbformat": 4,
 "nbformat_minor": 5
}
